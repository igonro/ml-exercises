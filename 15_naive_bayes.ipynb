{
 "cells": [
  {
   "cell_type": "code",
   "execution_count": 1,
   "source": [
    "from sklearn.datasets import load_wine\n",
    "wine = load_wine()"
   ],
   "outputs": [],
   "metadata": {}
  },
  {
   "cell_type": "code",
   "execution_count": 2,
   "source": [
    "from sklearn.naive_bayes import GaussianNB, MultinomialNB\n",
    "from sklearn.model_selection import cross_val_score, StratifiedKFold\n",
    "\n",
    "r1 = cross_val_score(GaussianNB(), wine.data, wine.target, cv=StratifiedKFold(8))\n",
    "r2 = cross_val_score(MultinomialNB(), wine.data, wine.target, cv=StratifiedKFold(8))\n",
    "\n",
    "print(\"Gaussian: \", sum(r1)/len(r1))\n",
    "print(\"Multinomial\", sum(r2)/len(r2))"
   ],
   "outputs": [
    {
     "output_type": "stream",
     "name": "stdout",
     "text": [
      "Gaussian:  0.9612154150197629\n",
      "Multinomial 0.8604249011857708\n"
     ]
    }
   ],
   "metadata": {}
  }
 ],
 "metadata": {
  "orig_nbformat": 4,
  "language_info": {
   "name": "python",
   "version": "3.9.1",
   "mimetype": "text/x-python",
   "codemirror_mode": {
    "name": "ipython",
    "version": 3
   },
   "pygments_lexer": "ipython3",
   "nbconvert_exporter": "python",
   "file_extension": ".py"
  },
  "kernelspec": {
   "name": "python3",
   "display_name": "Python 3.9.1 64-bit ('base': conda)"
  },
  "interpreter": {
   "hash": "c2ca6912df4842e931c7c3a5a16a0959c1781efc9bb19bffe6a5f271c5364947"
  }
 },
 "nbformat": 4,
 "nbformat_minor": 2
}
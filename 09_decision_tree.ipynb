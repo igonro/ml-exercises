{
 "cells": [
  {
   "cell_type": "code",
   "execution_count": 1,
   "source": [
    "import pandas as pd\n",
    "pd.options.mode.chained_assignment = None\n",
    "import warnings\n",
    "warnings.simplefilter(action='ignore', category=FutureWarning)\n",
    "\n",
    "# Data loading\n",
    "titanic = pd.read_csv(\"data/titanic.csv\")"
   ],
   "outputs": [],
   "metadata": {}
  },
  {
   "cell_type": "code",
   "execution_count": 2,
   "source": [
    "# Pre-processing\n",
    "titanic.drop(labels=[\"Name\", \"PassengerId\", \"SibSp\", \"Parch\", \"Ticket\", \"Cabin\", \"Embarked\"], axis=\"columns\", inplace=True)\n",
    "titanic.fillna(value=titanic.mean(), inplace=True)\n",
    "# titanic.dropna(axis=\"index\", subset=[\"Pclass\", \"Sex\", \"Age\", \"Fare\"], inplace=True)\n",
    "\n",
    "from sklearn.preprocessing import LabelEncoder\n",
    "le_sex = LabelEncoder()\n",
    "titanic[\"Sex\"] = le_sex.fit_transform(titanic[\"Sex\"])"
   ],
   "outputs": [],
   "metadata": {}
  },
  {
   "cell_type": "code",
   "execution_count": 3,
   "source": [
    "from sklearn.model_selection import train_test_split\n",
    "from sklearn import tree\n",
    "\n",
    "n = 50\n",
    "score = 0\n",
    "for _ in range(n):\n",
    "    # Dataset split\n",
    "\n",
    "    train, test = train_test_split(titanic, test_size=0.1)\n",
    "\n",
    "    train_x = train[[\"Pclass\", \"Sex\", \"Age\", \"Fare\"]]\n",
    "    train_y = train[[\"Survived\"]]\n",
    "    test_x = test[[\"Pclass\", \"Sex\", \"Age\", \"Fare\"]]\n",
    "    test_y = test[[\"Survived\"]]\n",
    "\n",
    "    # Model initialization\n",
    "    model = tree.DecisionTreeClassifier()\n",
    "    # Model training\n",
    "    model.fit(train_x, train_y)\n",
    "    # Model inference score\n",
    "    score += model.score(test_x, test_y)\n",
    "\n",
    "print(\"Score\", score / n)"
   ],
   "outputs": [
    {
     "output_type": "stream",
     "name": "stdout",
     "text": [
      "Score 0.7835555555555556\n"
     ]
    }
   ],
   "metadata": {}
  }
 ],
 "metadata": {
  "kernelspec": {
   "name": "python3",
   "display_name": "Python 3.9.1 64-bit ('base': conda)"
  },
  "language_info": {
   "codemirror_mode": {
    "name": "ipython",
    "version": 3
   },
   "file_extension": ".py",
   "mimetype": "text/x-python",
   "name": "python",
   "nbconvert_exporter": "python",
   "pygments_lexer": "ipython3",
   "version": "3.9.1"
  },
  "interpreter": {
   "hash": "c2ca6912df4842e931c7c3a5a16a0959c1781efc9bb19bffe6a5f271c5364947"
  }
 },
 "nbformat": 4,
 "nbformat_minor": 5
}
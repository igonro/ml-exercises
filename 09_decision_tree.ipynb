{
 "cells": [
  {
   "cell_type": "code",
   "execution_count": 1,
   "id": "419a28f0",
   "metadata": {},
   "outputs": [],
   "source": [
    "import pandas as pd\n",
    "pd.options.mode.chained_assignment = None\n",
    "\n",
    "# Data loading\n",
    "titanic = pd.read_csv(\"data/titanic.csv\")"
   ]
  },
  {
   "cell_type": "code",
   "execution_count": 2,
   "id": "2a8938d0-082d-46a9-972b-7c78ffaaf1d0",
   "metadata": {},
   "outputs": [
    {
     "name": "stderr",
     "output_type": "stream",
     "text": [
      "/tmp/ipykernel_1690/4148079656.py:3: FutureWarning: Dropping of nuisance columns in DataFrame reductions (with 'numeric_only=None') is deprecated; in a future version this will raise TypeError.  Select only valid columns before calling the reduction.\n",
      "  titanic.fillna(value=titanic.mean(), inplace=True)\n"
     ]
    }
   ],
   "source": [
    "# Pre-processing\n",
    "titanic.drop(labels=[\"Name\", \"PassengerId\", \"SibSp\", \"Parch\", \"Ticket\", \"Cabin\", \"Embarked\"], axis=\"columns\", inplace=True)\n",
    "titanic.fillna(value=titanic.mean(), inplace=True)\n",
    "# titanic.dropna(axis=\"index\", subset=[\"Pclass\", \"Sex\", \"Age\", \"Fare\"], inplace=True)\n",
    "\n",
    "from sklearn.preprocessing import LabelEncoder\n",
    "le_sex = LabelEncoder()\n",
    "titanic[\"Sex\"] = le_sex.fit_transform(titanic[\"Sex\"])"
   ]
  },
  {
   "cell_type": "code",
   "execution_count": 3,
   "id": "de96adf6-1cfd-4ab2-8ec8-0372cb36c276",
   "metadata": {},
   "outputs": [
    {
     "name": "stdout",
     "output_type": "stream",
     "text": [
      "0.7886666666666667\n"
     ]
    }
   ],
   "source": [
    "n = 50\n",
    "score = 0\n",
    "for _ in range(n):\n",
    "    # Dataset split\n",
    "    from sklearn.model_selection import train_test_split\n",
    "    \n",
    "    train, test = train_test_split(titanic, test_size=0.1)\n",
    "\n",
    "    train_x = train[[\"Pclass\", \"Sex\", \"Age\", \"Fare\"]]\n",
    "    train_y = train[[\"Survived\"]]\n",
    "    test_x = test[[\"Pclass\", \"Sex\", \"Age\", \"Fare\"]]\n",
    "    test_y = test[[\"Survived\"]]\n",
    "\n",
    "    from sklearn import tree\n",
    "\n",
    "    # Model initialization\n",
    "    model = tree.DecisionTreeClassifier()\n",
    "    # Model training\n",
    "    model.fit(train_x, train_y)\n",
    "    # Model inference score\n",
    "    score += model.score(test_x, test_y)\n",
    "    \n",
    "print(score / n)"
   ]
  }
 ],
 "metadata": {
  "kernelspec": {
   "display_name": "Python 3 (ipykernel)",
   "language": "python",
   "name": "python3"
  },
  "language_info": {
   "codemirror_mode": {
    "name": "ipython",
    "version": 3
   },
   "file_extension": ".py",
   "mimetype": "text/x-python",
   "name": "python",
   "nbconvert_exporter": "python",
   "pygments_lexer": "ipython3",
   "version": "3.9.1"
  }
 },
 "nbformat": 4,
 "nbformat_minor": 5
}

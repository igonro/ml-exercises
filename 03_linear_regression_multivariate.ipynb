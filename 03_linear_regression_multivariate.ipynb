{
 "cells": [
  {
   "cell_type": "code",
   "execution_count": 82,
   "source": [
    "import pandas as pd\n",
    "pd.options.mode.chained_assignment = None\n",
    "from word2number import w2n\n",
    "from sklearn.linear_model import LinearRegression\n",
    "\n",
    "df = pd.read_csv(\"data/hiring.csv\")\n",
    "print(df)\n",
    "df_nnans = df.dropna()"
   ],
   "outputs": [
    {
     "output_type": "stream",
     "name": "stdout",
     "text": [
      "  experience  test_score(out of 10)  interview_score(out of 10)  salary($)\n",
      "0        NaN                    8.0                           9      50000\n",
      "1        NaN                    8.0                           6      45000\n",
      "2       five                    6.0                           7      60000\n",
      "3        two                   10.0                          10      65000\n",
      "4      seven                    9.0                           6      70000\n",
      "5      three                    7.0                          10      62000\n",
      "6        ten                    NaN                           7      72000\n",
      "7     eleven                    7.0                           8      80000\n"
     ]
    }
   ],
   "metadata": {}
  },
  {
   "cell_type": "code",
   "execution_count": 83,
   "source": [
    "df_nnans.experience = df_nnans[[\"experience\"]].applymap(lambda x: w2n.word_to_num(x))\n",
    "\n",
    "X = df_nnans.drop([\"experience\"], axis=\"columns\")\n",
    "y = df_nnans.experience\n",
    "\n",
    "model_exp = LinearRegression()\n",
    "model_exp.fit(X, y)\n",
    "\n",
    "X_pred = df.loc[df[\"experience\"].isna()].drop([\"experience\"], axis=\"columns\")\n",
    "print(model_exp.predict(X_pred))\n",
    "# As the predicted values are negative, we fill NaN in experience field, with zero\n",
    "\n",
    "df.fillna({\"experience\": \"zero\"}, inplace=True)\n",
    "df_nnans = df.dropna()\n",
    "print(df_nnans)"
   ],
   "outputs": [
    {
     "output_type": "stream",
     "name": "stdout",
     "text": [
      "[-1.4872918  -1.46055111]\n",
      "  experience  test_score(out of 10)  interview_score(out of 10)  salary($)\n",
      "0       zero                    8.0                           9      50000\n",
      "1       zero                    8.0                           6      45000\n",
      "2       five                    6.0                           7      60000\n",
      "3        two                   10.0                          10      65000\n",
      "4      seven                    9.0                           6      70000\n",
      "5      three                    7.0                          10      62000\n",
      "7     eleven                    7.0                           8      80000\n"
     ]
    }
   ],
   "metadata": {}
  },
  {
   "cell_type": "code",
   "execution_count": 84,
   "source": [
    "df_nnans.experience = df_nnans[[\"experience\"]].applymap(lambda x: w2n.word_to_num(x))\n",
    "df.experience = df[[\"experience\"]].applymap(lambda x: w2n.word_to_num(x))\n",
    "\n",
    "X = df_nnans.drop([\"test_score(out of 10)\"], axis=\"columns\")\n",
    "y = df_nnans[\"test_score(out of 10)\"]\n",
    "\n",
    "model_test_sc = LinearRegression()\n",
    "model_test_sc.fit(X, y)\n",
    "\n",
    "X_pred = df.loc[df[\"test_score(out of 10)\"].isna()].drop([\"test_score(out of 10)\"], axis=\"columns\")\n",
    "print(model_test_sc.predict(X_pred))\n",
    "\n",
    "df.loc[df[\"test_score(out of 10)\"].isna(), \"test_score(out of 10)\"] = model_test_sc.predict(X_pred)\n",
    "df"
   ],
   "outputs": [
    {
     "output_type": "stream",
     "name": "stdout",
     "text": [
      "[5.38023349]\n"
     ]
    },
    {
     "output_type": "execute_result",
     "data": {
      "text/plain": [
       "   experience  test_score(out of 10)  interview_score(out of 10)  salary($)\n",
       "0           0               8.000000                           9      50000\n",
       "1           0               8.000000                           6      45000\n",
       "2           5               6.000000                           7      60000\n",
       "3           2              10.000000                          10      65000\n",
       "4           7               9.000000                           6      70000\n",
       "5           3               7.000000                          10      62000\n",
       "6          10               5.380233                           7      72000\n",
       "7          11               7.000000                           8      80000"
      ],
      "text/html": [
       "<div>\n",
       "<style scoped>\n",
       "    .dataframe tbody tr th:only-of-type {\n",
       "        vertical-align: middle;\n",
       "    }\n",
       "\n",
       "    .dataframe tbody tr th {\n",
       "        vertical-align: top;\n",
       "    }\n",
       "\n",
       "    .dataframe thead th {\n",
       "        text-align: right;\n",
       "    }\n",
       "</style>\n",
       "<table border=\"1\" class=\"dataframe\">\n",
       "  <thead>\n",
       "    <tr style=\"text-align: right;\">\n",
       "      <th></th>\n",
       "      <th>experience</th>\n",
       "      <th>test_score(out of 10)</th>\n",
       "      <th>interview_score(out of 10)</th>\n",
       "      <th>salary($)</th>\n",
       "    </tr>\n",
       "  </thead>\n",
       "  <tbody>\n",
       "    <tr>\n",
       "      <th>0</th>\n",
       "      <td>0</td>\n",
       "      <td>8.000000</td>\n",
       "      <td>9</td>\n",
       "      <td>50000</td>\n",
       "    </tr>\n",
       "    <tr>\n",
       "      <th>1</th>\n",
       "      <td>0</td>\n",
       "      <td>8.000000</td>\n",
       "      <td>6</td>\n",
       "      <td>45000</td>\n",
       "    </tr>\n",
       "    <tr>\n",
       "      <th>2</th>\n",
       "      <td>5</td>\n",
       "      <td>6.000000</td>\n",
       "      <td>7</td>\n",
       "      <td>60000</td>\n",
       "    </tr>\n",
       "    <tr>\n",
       "      <th>3</th>\n",
       "      <td>2</td>\n",
       "      <td>10.000000</td>\n",
       "      <td>10</td>\n",
       "      <td>65000</td>\n",
       "    </tr>\n",
       "    <tr>\n",
       "      <th>4</th>\n",
       "      <td>7</td>\n",
       "      <td>9.000000</td>\n",
       "      <td>6</td>\n",
       "      <td>70000</td>\n",
       "    </tr>\n",
       "    <tr>\n",
       "      <th>5</th>\n",
       "      <td>3</td>\n",
       "      <td>7.000000</td>\n",
       "      <td>10</td>\n",
       "      <td>62000</td>\n",
       "    </tr>\n",
       "    <tr>\n",
       "      <th>6</th>\n",
       "      <td>10</td>\n",
       "      <td>5.380233</td>\n",
       "      <td>7</td>\n",
       "      <td>72000</td>\n",
       "    </tr>\n",
       "    <tr>\n",
       "      <th>7</th>\n",
       "      <td>11</td>\n",
       "      <td>7.000000</td>\n",
       "      <td>8</td>\n",
       "      <td>80000</td>\n",
       "    </tr>\n",
       "  </tbody>\n",
       "</table>\n",
       "</div>"
      ]
     },
     "metadata": {},
     "execution_count": 84
    }
   ],
   "metadata": {}
  },
  {
   "cell_type": "code",
   "execution_count": 85,
   "source": [
    "X = df.drop([\"salary($)\"], axis=\"columns\")\n",
    "y = df[\"salary($)\"]\n",
    "\n",
    "model = LinearRegression()\n",
    "model.fit(X, y)\n",
    "\n",
    "X_pred = [[2, 9.0, 6.0], [12, 10.0, 10.0]]\n",
    "print(model.predict(X_pred))"
   ],
   "outputs": [
    {
     "output_type": "stream",
     "name": "stdout",
     "text": [
      "[53896.38219108 95121.90919384]\n"
     ]
    }
   ],
   "metadata": {}
  }
 ],
 "metadata": {
  "orig_nbformat": 4,
  "language_info": {
   "name": "python",
   "version": "3.9.1",
   "mimetype": "text/x-python",
   "codemirror_mode": {
    "name": "ipython",
    "version": 3
   },
   "pygments_lexer": "ipython3",
   "nbconvert_exporter": "python",
   "file_extension": ".py"
  },
  "kernelspec": {
   "name": "python3",
   "display_name": "Python 3.9.1 64-bit ('base': conda)"
  },
  "interpreter": {
   "hash": "c2ca6912df4842e931c7c3a5a16a0959c1781efc9bb19bffe6a5f271c5364947"
  }
 },
 "nbformat": 4,
 "nbformat_minor": 2
}